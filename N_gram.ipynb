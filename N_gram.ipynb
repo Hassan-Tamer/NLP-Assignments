{
  "nbformat": 4,
  "nbformat_minor": 0,
  "metadata": {
    "colab": {
      "provenance": []
    },
    "kernelspec": {
      "name": "python3",
      "display_name": "Python 3"
    },
    "language_info": {
      "name": "python"
    }
  },
  "cells": [
    {
      "cell_type": "markdown",
      "source": [
        "# Download and Process the IMDB Dataset"
      ],
      "metadata": {
        "id": "cD9ZRNeIJ_Br"
      }
    },
    {
      "cell_type": "code",
      "source": [
        "!pip install --quiet gdown\n",
        "\n",
        "# 1. Download the zipped IMDB dataset from Drive\n",
        "# this is the unsup part of https://ai.stanford.edu/~amaas/data/sentiment/\n",
        "\n",
        "!gdown \"https://drive.google.com/uc?id=1PjJ5cop0pT6tcEw9-ZUstVMujx-o-QTB\" -O imdb_dataset.zip\n",
        "\n",
        "# 2. Unzip the downloaded file\n",
        "!unzip -q imdb_dataset.zip -d imdb_data"
      ],
      "metadata": {
        "colab": {
          "base_uri": "https://localhost:8080/"
        },
        "id": "0olLNujvMbg8",
        "outputId": "1b003841-a77d-44b0-f0be-5afa30279d1f"
      },
      "execution_count": 31,
      "outputs": [
        {
          "output_type": "stream",
          "name": "stdout",
          "text": [
            "Downloading...\n",
            "From (original): https://drive.google.com/uc?id=1PjJ5cop0pT6tcEw9-ZUstVMujx-o-QTB\n",
            "From (redirected): https://drive.google.com/uc?id=1PjJ5cop0pT6tcEw9-ZUstVMujx-o-QTB&confirm=t&uuid=1c97ca0d-b779-4ce4-9ce1-da694e46d5e2\n",
            "To: /content/imdb_dataset.zip\n",
            "100% 44.7M/44.7M [00:00<00:00, 94.0MB/s]\n",
            "replace imdb_data/unsup/0_0.txt? [y]es, [n]o, [A]ll, [N]one, [r]ename: n\n",
            "replace imdb_data/unsup/10000_0.txt? [y]es, [n]o, [A]ll, [N]one, [r]ename: N\n"
          ]
        }
      ]
    },
    {
      "cell_type": "code",
      "source": [
        "import os\n",
        "import re\n",
        "import string\n",
        "import random\n",
        "from collections import defaultdict, Counter\n",
        "import math\n",
        "from math import log, exp"
      ],
      "metadata": {
        "id": "siDkX864cazJ"
      },
      "execution_count": 32,
      "outputs": []
    },
    {
      "cell_type": "code",
      "execution_count": 33,
      "metadata": {
        "id": "G1K-8ybJJ3Cl"
      },
      "outputs": [],
      "source": [
        "\n",
        "def load_imdb_unsup_sentences(folder_path):\n",
        "    \"\"\"\n",
        "    Loads text files from the IMDB 'unsup' (unsupervised) folder.\n",
        "    split text by newline, strips text, and returns a list of raw lines.\n",
        "    replace <br /> tags with special token <nl> token.\n",
        "    \"\"\"\n",
        "    all_sentences = []\n",
        "\n",
        "    for filename in os.listdir(folder_path):\n",
        "        file_path = os.path.join(folder_path, filename)\n",
        "        with open(file_path, 'r', encoding='utf-8') as f:\n",
        "            content = f.read()\n",
        "            content = content.replace(\"<br />\", \" <nl> \")  # Ensure <nl> is spaced correctly\n",
        "            sentences = [line.strip() for line in content.split(\"\\n\") if line.strip()]\n",
        "            all_sentences.extend(sentences)\n",
        "\n",
        "    return all_sentences\n",
        "\n",
        "def remove_punctuation(text):\n",
        "    \"\"\"\n",
        "    Removes punctuation from the text,\n",
        "    but keeps <nl> tokens intact.\n",
        "    \"\"\"\n",
        "\n",
        "    text = text.replace(\"<nl>\", \" <nl> \")  # Temporarily isolate <nl>\n",
        "    text = text.translate(str.maketrans(\"\", \"\", string.punctuation))\n",
        "    text = text.replace(\" <nl> \", \" <nl> \")  # Restore <nl> token placement\n",
        "    return text\n",
        "\n",
        "def build_vocabulary(sentences):\n",
        "    \"\"\"\n",
        "    lower each sentence,\n",
        "    Splits each sentence on whitespace, removes punctuation,\n",
        "    and builds a set of unique tokens (vocabulary).\n",
        "    \"\"\"\n",
        "    vocab = set()\n",
        "\n",
        "    for sentence in sentences:\n",
        "        sentence = sentence.lower().strip()\n",
        "        sentence = remove_punctuation(sentence)\n",
        "        tokens = sentence.split()\n",
        "        vocab.update(tokens)\n",
        "\n",
        "    return vocab\n",
        "\n",
        "def tokinize(sentences, vocab, unknown=\"<UNK>\"):\n",
        "    \"\"\"\n",
        "    lower each sentence,\n",
        "    Splits each sentence on whitespace, removes punctuation,\n",
        "    and replaces tokens not in the vocabulary with unknowen token.\n",
        "    Returns the list of tokenized sentences.\n",
        "    \"\"\"\n",
        "    tokenized_sentences = []\n",
        "\n",
        "    for sentence in sentences:\n",
        "        sentence = sentence.lower().strip()\n",
        "        sentence = remove_punctuation(sentence)\n",
        "        tokens = [token if token in vocab else unknown for token in sentence.split()]\n",
        "        tokenized_sentences.append(tokens)\n",
        "\n",
        "    return tokenized_sentences"
      ]
    },
    {
      "cell_type": "code",
      "source": [
        "imdb_folder = \"imdb_data/unsup\"\n",
        "sentences = load_imdb_unsup_sentences(imdb_folder)\n",
        "\n",
        "print(f\"Number of raw sentences loaded: {len(sentences)}\")\n",
        "print(f\"Example (first 2 sentences):\\n{sentences[:2]}\")"
      ],
      "metadata": {
        "colab": {
          "base_uri": "https://localhost:8080/"
        },
        "id": "Y-5469mMKcRP",
        "outputId": "105832d7-bc67-429c-b0aa-a391fe3f450a"
      },
      "execution_count": 34,
      "outputs": [
        {
          "output_type": "stream",
          "name": "stdout",
          "text": [
            "Number of raw sentences loaded: 50000\n",
            "Example (first 2 sentences):\n",
            "['At the beginning of this film, there\\'s a tight shot on Brooke Shields\\' baby face: she\\'s watching something with interest and we hear a woman moaning just in front of her. Since we all know what \"Pretty Baby\" is about, one is to assume the child is watching some sexual act with curiosity. Actually, it\\'s just the opposite. This is writer-director Louis Malle\\'s clever way of laughing at the viewer, saying \"You have the dirty mind, not I.\" It\\'s a very smart way to begin to the picture, but little else occupied my mind after it got going. Why would Keith Carradine\\'s colorless older man want to marry a pubescent prostitute? Nobody here is saying, especially not Carradine (who has one sullen expression to express every emotion). The photography and background scoring are gorgeous, however the story and characters provide no passion, no emotion. The film is like a stylish painting, but one full of dullards. *1/2 from ****', \"i quite enjoyed this film. the only problem i had with it was that i wanted to see more of gina mckee's character explored - i think all the characters were spread a little thin and it could have been better if there was more focus to fewer characters. mckee was the highlight of the film (she often is) and her storyline was especially good.  <nl>  <nl> overall i thought the family dynamics were great - in a horrifying way. the parents were terribly distressing. i found the brother storyline slightly confusing and unnecessary. i would like to have known more about him or nothing at all. <nl>  <nl> anyway, i thought it was a decent film, worth seeing by all means.\"]\n"
          ]
        }
      ]
    },
    {
      "cell_type": "code",
      "source": [
        "assert len(sentences) == 50000, \"Expected 50,000 sentences from the unsup folder.\""
      ],
      "metadata": {
        "id": "Qv0J6dGhIidP"
      },
      "execution_count": 35,
      "outputs": []
    },
    {
      "cell_type": "code",
      "source": [
        "random.seed(42)\n",
        "\n",
        "def split_data(sentences, test_split=0.1):\n",
        "    \"\"\"\n",
        "    shuffle the sentences\n",
        "    split them into train and test sets (first 1-test_split of the data is the training)\n",
        "    return the train and test sets\n",
        "    \"\"\"\n",
        "    sentences_copy = sentences.copy()\n",
        "    random.shuffle(sentences_copy)\n",
        "    split_point = int(len(sentences_copy) * (1 - test_split))\n",
        "\n",
        "    # Split the data\n",
        "    train_sentences = sentences_copy[:split_point]\n",
        "    test_sentences = sentences_copy[split_point:]\n",
        "\n",
        "    return train_sentences, test_sentences"
      ],
      "metadata": {
        "id": "9hA3B8WEKAF_"
      },
      "execution_count": 36,
      "outputs": []
    },
    {
      "cell_type": "code",
      "source": [
        "train_sentences, test_sentences = split_data(sentences)\n",
        "\n",
        "print(f\"Number of training sentences: {len(train_sentences)}\")\n",
        "print(f\"Number of test sentences: {len(test_sentences)}\")"
      ],
      "metadata": {
        "colab": {
          "base_uri": "https://localhost:8080/"
        },
        "id": "MfYWg45aKNzP",
        "outputId": "1122c0b3-3f89-497e-b4ca-e41601ffeae2"
      },
      "execution_count": 37,
      "outputs": [
        {
          "output_type": "stream",
          "name": "stdout",
          "text": [
            "Number of training sentences: 45000\n",
            "Number of test sentences: 5000\n"
          ]
        }
      ]
    },
    {
      "cell_type": "code",
      "source": [
        "assert len(train_sentences) == 45000, \"Expected 45,000 sentences for training.\"\n",
        "assert len(test_sentences) == 5000, \"Expected 5,000 sentences for testing.\"\n"
      ],
      "metadata": {
        "id": "i9Hh9ptkKS6Y"
      },
      "execution_count": 38,
      "outputs": []
    },
    {
      "cell_type": "code",
      "source": [
        "vocab = build_vocabulary(train_sentences)\n",
        "tokenized_sentences = tokinize(train_sentences, vocab)\n",
        "\n",
        "print(f\"Vocabulary size: {len(vocab)}\")\n",
        "print(f\"Example tokens from first sentence: {tokenized_sentences[0][:10] if tokenized_sentences else 'No tokens loaded'} ...\")\n"
      ],
      "metadata": {
        "colab": {
          "base_uri": "https://localhost:8080/"
        },
        "id": "ZI_q9qARKw_u",
        "outputId": "db41c044-1875-406d-94a3-d16cd78179a6"
      },
      "execution_count": 39,
      "outputs": [
        {
          "output_type": "stream",
          "name": "stdout",
          "text": [
            "Vocabulary size: 161573\n",
            "Example tokens from first sentence: ['i', 'watched', 'this', 'movie', 'just', 'for', 'the', 'sake', 'of', 'a'] ...\n"
          ]
        }
      ]
    },
    {
      "cell_type": "code",
      "source": [
        "# assert len(vocab) == 161292, \"Expected a vocabulary size of 171,591.\" #skip for replication problems\n",
        "assert len(tokenized_sentences) == 45000, \"Expected tokenized sentences count to match raw sentences.\"\n",
        "\n",
        "example = \"I love Natural language processing, and i want to be a great engineer.\"\n",
        "assert len(example) == 70, \"Example sentence length (in characters) does not match the expected 70.\"\n",
        "\n",
        "example_tokens = tokinize([example], vocab)[0]\n",
        "assert len(example_tokens) == 13, \"Token count for the example sentence does not match the expected 13.\"\n"
      ],
      "metadata": {
        "id": "9lbynIF5K6xJ"
      },
      "execution_count": 40,
      "outputs": []
    },
    {
      "cell_type": "code",
      "source": [
        "def pad_sentence(tokens, n):\n",
        "    \"\"\"\n",
        "    Pads a list of tokens with <s> at the start (n-1 times)\n",
        "    and </s> at the end (once).\n",
        "    For example, if n=3, you add 2 <s> tokens at the start.\n",
        "    \"\"\"\n",
        "    padded = [\"<s>\"] * (n - 1) + tokens + [\"</s>\"]\n",
        "    return padded\n",
        "\n",
        "def build_ngram_counts(tokenized_sentences, n, vocab=None):\n",
        "    \"\"\"\n",
        "    Builds n-gram counts and (n-1)-gram counts from the given tokenized sentences.\n",
        "    Each sentence is padded with <s> and </s>.\n",
        "\n",
        "    Args:\n",
        "        tokenized_sentences: list of lists, where each sub-list is a tokenized sentence.\n",
        "        n: the order of the n-gram (e.g., 2 for bigrams, 3 for trigrams).\n",
        "        vocab: set of known words. If provided, you can choose to handle out-of-vocab tokens.\n",
        "\n",
        "    Returns:\n",
        "        ngram_counts: Counter of n-grams (tuples of length n).\n",
        "        context_counts: Counter of (n-1)-gram contexts.\n",
        "    \"\"\"\n",
        "    #@n=2 --> P(baseball|Love) = C(love baseball)/C(love)\n",
        "    ngram_counts = Counter()\n",
        "    context_counts = Counter()\n",
        "\n",
        "    for tokens in tokenized_sentences:\n",
        "        # Pad the sentence\n",
        "        padded_tokens = pad_sentence(tokens, n)\n",
        "\n",
        "        # Count n-grams and (n-1)-grams\n",
        "        for i in range(len(padded_tokens) - n + 1):\n",
        "            # Extract the n-gram\n",
        "            ngram = tuple(padded_tokens[i:i+n])\n",
        "            ngram_counts[ngram] += 1\n",
        "\n",
        "            # Extract the context (first n-1 tokens of the n-gram)\n",
        "            context = tuple(padded_tokens[i:i+n-1])\n",
        "            context_counts[context] += 1\n",
        "\n",
        "    return ngram_counts, context_counts\n",
        "\n",
        "def laplace_probability(ngram, ngram_counts, context_counts, vocab_size, alpha=1.0):\n",
        "    \"\"\"\n",
        "    Computes the probability of an n-gram using Laplace (add-alpha) smoothing.\n",
        "\n",
        "    P(w_i | w_{i-(n-1)}, ..., w_{i-1}) =\n",
        "        (count(ngram) + alpha) / (count(context) + alpha * vocab_size)\n",
        "\n",
        "    Args:\n",
        "        ngram: tuple of tokens representing the n-gram\n",
        "        ngram_counts: Counter of n-grams\n",
        "        context_counts: Counter of (n-1)-gram contexts\n",
        "        vocab_size: size of the vocabulary\n",
        "        alpha: smoothing parameter (1.0 = add-1 smoothing)\n",
        "\n",
        "    Returns:\n",
        "        Probability of the given n-gram.\n",
        "    \"\"\"\n",
        "\n",
        "    # ngram_count = ngram_counts[ngram]\n",
        "    # context_count = context_counts[context]\n",
        "    count_ngram = ngram_counts.get(ngram,0)\n",
        "    context = ngram[:-1]\n",
        "    count_context = context_counts.get(context,0)\n",
        "\n",
        "    # Calculate probability using Laplace smoothing\n",
        "    prob = (count_ngram + alpha) / (count_context + alpha * vocab_size)\n",
        "\n",
        "    return prob"
      ],
      "metadata": {
        "id": "9bQ5K2ubNFhD"
      },
      "execution_count": 41,
      "outputs": []
    },
    {
      "cell_type": "code",
      "source": [
        "n = 2\n",
        "ngram_counts, context_counts = build_ngram_counts(tokenized_sentences, n=n, vocab=vocab)\n",
        "print(f\"Number of bigrams: {len(ngram_counts)}\")\n",
        "print(f\"Number of contexts: {len(context_counts)}\")"
      ],
      "metadata": {
        "colab": {
          "base_uri": "https://localhost:8080/"
        },
        "id": "KgFRligyRx_8",
        "outputId": "6684d64a-1f0c-4efc-ee56-2bf573d4a5d7"
      },
      "execution_count": 42,
      "outputs": [
        {
          "output_type": "stream",
          "name": "stdout",
          "text": [
            "Number of bigrams: 2281027\n",
            "Number of contexts: 161574\n"
          ]
        }
      ]
    },
    {
      "cell_type": "code",
      "source": [
        "from math import log, exp\n",
        "\n",
        "def predict_next_token(\n",
        "    context_tokens,\n",
        "    ngram_counts,\n",
        "    context_counts,\n",
        "    vocab,\n",
        "    n=2,\n",
        "    alpha=1.0,\n",
        "    top_k=5\n",
        "):\n",
        "    \"\"\"\n",
        "    Given a list of context tokens, predict the next token using the n-gram model.\n",
        "    Returns the top_k predictions as (token, probability).\n",
        "    \"\"\"\n",
        "    if len(context_tokens) >= n-1:\n",
        "        context = tuple(context_tokens[-(n-1):])\n",
        "    else:\n",
        "        padding = [\"<s>\"] * (n-1 - len(context_tokens))\n",
        "        context = tuple(padding + context_tokens)\n",
        "\n",
        "    candidates = []\n",
        "    vocab_size = len(vocab)\n",
        "\n",
        "    for token in vocab:\n",
        "        ngram = context + (token,)\n",
        "        prob = laplace_probability(ngram, ngram_counts, context_counts, vocab_size, alpha)\n",
        "        candidates.append((token, prob))\n",
        "\n",
        "    candidates.sort(key=lambda x: x[1], reverse=True)\n",
        "\n",
        "    return candidates[:top_k]\n",
        "\n",
        "\n",
        "def generate_text_with_limit(\n",
        "    start_tokens,\n",
        "    ngram_counts,\n",
        "    context_counts,\n",
        "    vocab,\n",
        "    n=2,\n",
        "    alpha=1.0,\n",
        "    max_length=20\n",
        "):\n",
        "    \"\"\"\n",
        "    Generates text from an n-gram model until it sees </s>\n",
        "    or reaches a maximum total length (max_length).\n",
        "\n",
        "    Args:\n",
        "      start_tokens (list): initial context to begin generation\n",
        "      ngram_counts (Counter): trained n-gram counts\n",
        "      context_counts (Counter): trained (n-1)-gram counts\n",
        "      vocab (set): the model vocabulary\n",
        "      n (int): n-gram order, 2 for bigram, 3 for trigram, etc.\n",
        "      alpha (float): Laplace smoothing parameter\n",
        "      max_length (int): maximum number of tokens to generate (including start_tokens)\n",
        "\n",
        "    Returns:\n",
        "      A list of tokens representing the generated sequence.\n",
        "    \"\"\"\n",
        "\n",
        "    generated = start_tokens.copy()\n",
        "    while len(generated) < max_length:\n",
        "        next_predictions = predict_next_token(generated,ngram_counts,context_counts,vocab,n,alpha)\n",
        "\n",
        "        next_token = next_predictions[0][0]\n",
        "\n",
        "        if next_token == \"</s>\":\n",
        "            break\n",
        "\n",
        "        # Add the token to the generated sequence\n",
        "        generated.append(next_token)\n",
        "\n",
        "    return generated"
      ],
      "metadata": {
        "id": "1v4NzCsBMzTN"
      },
      "execution_count": 43,
      "outputs": []
    },
    {
      "cell_type": "code",
      "source": [
        "def calculate_perplexity(tokenized_sentences, ngram_counts, context_counts, vocab_size, n=2, alpha=1.0):\n",
        "    \"\"\"\n",
        "    Calculates the perplexity of an n-gram model (with Laplace smoothing)\n",
        "    on a list of tokenized sentences.\n",
        "\n",
        "    Args:\n",
        "      tokenized_sentences: List of lists of tokens.\n",
        "      ngram_counts: Counter of n-grams.\n",
        "      context_counts: Counter of (n-1)-grams.\n",
        "      vocab_size: Size of the vocabulary.\n",
        "      n: n-gram order.\n",
        "      alpha: Laplace smoothing parameter.\n",
        "\n",
        "    Returns:\n",
        "      A float representing the perplexity on the given dataset.\n",
        "    \"\"\"\n",
        "\n",
        "    log_prob_sum = 0.0\n",
        "    word_count = 0\n",
        "\n",
        "    for sentence in tokenized_sentences:\n",
        "        sentence = pad_sentence(sentence,n)\n",
        "\n",
        "        for i in range(len(sentence) - n + 1):\n",
        "            ngram = tuple(sentence[i : i + n])\n",
        "            prob = laplace_probability(ngram,ngram_counts,context_counts,vocab_size,alpha)\n",
        "\n",
        "            log_prob_sum += math.log(prob)\n",
        "            word_count += 1\n",
        "            # print(f\"N-gram: {ngram}, Probability: {prob}\")\n",
        "\n",
        "\n",
        "    perplexity = math.exp(-log_prob_sum / word_count)\n",
        "    return perplexity\n"
      ],
      "metadata": {
        "id": "_LN_xGAcGPnt"
      },
      "execution_count": 44,
      "outputs": []
    },
    {
      "cell_type": "markdown",
      "source": [
        "# **Analysis**\n",
        "use different n and rerun the code and write down your analysis"
      ],
      "metadata": {
        "id": "__ExBYFpgj30"
      }
    },
    {
      "cell_type": "code",
      "source": [
        "ngram_counts_dict = {}\n",
        "context_counts_dict = {}\n",
        "for n in [2,3,4]:\n",
        "    ngram_counts, context_counts = build_ngram_counts(tokenized_sentences, n=n)\n",
        "    ngram_counts_dict[n] = ngram_counts\n",
        "    context_counts_dict[n] = context_counts\n",
        "    print(f\"Number of {n}-grams: {len(ngram_counts)}\")"
      ],
      "metadata": {
        "colab": {
          "base_uri": "https://localhost:8080/"
        },
        "id": "8kN_JRLevIO_",
        "outputId": "0ed44ac9-4490-44c9-bba5-a8ac9bad5253"
      },
      "execution_count": 45,
      "outputs": [
        {
          "output_type": "stream",
          "name": "stdout",
          "text": [
            "Number of 2-grams: 2281027\n",
            "Number of 3-grams: 6110588\n",
            "Number of 4-grams: 8810202\n"
          ]
        }
      ]
    },
    {
      "cell_type": "code",
      "source": [
        "for n in [2, 3, 4]:\n",
        "    ngram_counts = ngram_counts_dict[n]\n",
        "    context_counts = context_counts_dict[n]\n",
        "\n",
        "    context = [\"i\", \"love\"]\n",
        "    generated_seq = generate_text_with_limit(\n",
        "        start_tokens=context,\n",
        "        ngram_counts=ngram_counts,\n",
        "        context_counts=context_counts,\n",
        "        vocab=vocab,\n",
        "        n=n,\n",
        "        alpha=1.0,\n",
        "        max_length=30\n",
        "    )\n",
        "    print(f\"Generated Sequence (n={n}): {' '.join(generated_seq)}\")"
      ],
      "metadata": {
        "colab": {
          "base_uri": "https://localhost:8080/"
        },
        "id": "8utsPMg5ck__",
        "outputId": "dda53099-b9ca-4198-a28d-977b1c0d897d"
      },
      "execution_count": 46,
      "outputs": [
        {
          "output_type": "stream",
          "name": "stdout",
          "text": [
            "Generated Sequence (n=2): i love with the film is a lot of the film is a lot of the film is a lot of the film is a lot of the film is\n",
            "Generated Sequence (n=3): i love the film is a very good and the film is a very good and the film is a very good and the film is a very good and\n",
            "Generated Sequence (n=4): i love this movie and i was not disappointed nl nl i think the film is a bit of a stretch to think that this is a very good film\n"
          ]
        }
      ]
    },
    {
      "cell_type": "code",
      "source": [
        "tokenized_test_sentences = tokinize(test_sentences, vocab)\n",
        "for n in [2,3,4]:\n",
        "    ngram_counts = ngram_counts_dict[n]\n",
        "    context_counts = context_counts_dict[n]\n",
        "    pp = calculate_perplexity(tokenized_test_sentences, ngram_counts, context_counts, len(vocab), n, alpha=0.001)\n",
        "    print(f\"Perplexity at n={n}: {pp}\")"
      ],
      "metadata": {
        "colab": {
          "base_uri": "https://localhost:8080/"
        },
        "id": "oaDtpmmCvkBO",
        "outputId": "84d6152c-5273-4ce5-a557-0c43e8eda6d4"
      },
      "execution_count": 47,
      "outputs": [
        {
          "output_type": "stream",
          "name": "stdout",
          "text": [
            "Perplexity at n=2: 583.385285945396\n",
            "Perplexity at n=3: 3615.619015805097\n",
            "Perplexity at n=4: 28014.547715826964\n"
          ]
        }
      ]
    },
    {
      "cell_type": "code",
      "source": [
        "tokenized_train_sentences = tokinize(train_sentences[:200], vocab)\n",
        "for n in [2,3,4]:\n",
        "    ngram_counts = ngram_counts_dict[n]\n",
        "    context_counts = context_counts_dict[n]\n",
        "    pp = calculate_perplexity(tokenized_train_sentences, ngram_counts, context_counts, len(vocab), n, alpha=0.001)\n",
        "    print(f\"Perplexity at n={n}: {pp}\")"
      ],
      "metadata": {
        "colab": {
          "base_uri": "https://localhost:8080/"
        },
        "id": "QZ-QQSB4vj5e",
        "outputId": "6c194a1e-36c3-4889-bf4b-60c274e2d212"
      },
      "execution_count": 48,
      "outputs": [
        {
          "output_type": "stream",
          "name": "stdout",
          "text": [
            "Perplexity at n=2: 180.84731654987715\n",
            "Perplexity at n=3: 106.72718856907129\n",
            "Perplexity at n=4: 123.4175463277665\n"
          ]
        }
      ]
    }
  ]
}